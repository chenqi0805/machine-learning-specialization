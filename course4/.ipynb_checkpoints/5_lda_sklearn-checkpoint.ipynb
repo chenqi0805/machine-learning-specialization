{
 "cells": [
  {
   "cell_type": "markdown",
   "metadata": {},
   "source": [
    "# Latent Dirichlet Allocation for Text Data\n",
    "\n",
    "In this assignment you will\n",
    "\n",
    "* apply standard preprocessing techniques on Wikipedia text data\n",
    "* use GraphLab Create to fit a Latent Dirichlet allocation (LDA) model\n",
    "* explore and interpret the results, including topic keywords and topic assignments for documents\n",
    "\n",
    "Recall that a major feature distinguishing the LDA model from our previously explored methods is the notion of *mixed membership*. Throughout the course so far, our models have assumed that each data point belongs to a single cluster. k-means determines membership simply by shortest distance to the cluster center, and Gaussian mixture models suppose that each data point is drawn from one of their component mixture distributions. In many cases, though, it is more realistic to think of data as genuinely belonging to more than one cluster or category - for example, if we have a model for text data that includes both \"Politics\" and \"World News\" categories, then an article about a recent meeting of the United Nations should have membership in both categories rather than being forced into just one.\n",
    "\n",
    "With this in mind, we will use GraphLab Create tools to fit an LDA model to a corpus of Wikipedia articles and examine the results to analyze the impact of a mixed membership approach. In particular, we want to identify the topics discovered by the model in terms of their most important words, and we want to use the model to predict the topic membership distribution for a given document. "
   ]
  },
  {
   "cell_type": "markdown",
   "metadata": {},
   "source": [
    "**Note to Amazon EC2 users**: To conserve memory, make sure to stop all the other notebooks before running this notebook."
   ]
  },
  {
   "cell_type": "markdown",
   "metadata": {},
   "source": [
    "## Text Data Preprocessing\n",
    "We'll start by importing our familiar Wikipedia dataset."
   ]
  },
  {
   "cell_type": "code",
   "execution_count": 1,
   "metadata": {
    "collapsed": false
   },
   "outputs": [],
   "source": [
    "import pandas as pd\n",
    "import numpy as np\n",
    "import matplotlib.pyplot as plt \n",
    "\n",
    "%matplotlib inline"
   ]
  },
  {
   "cell_type": "code",
   "execution_count": 2,
   "metadata": {
    "collapsed": false
   },
   "outputs": [
    {
     "data": {
      "text/html": [
       "<div>\n",
       "<table border=\"1\" class=\"dataframe\">\n",
       "  <thead>\n",
       "    <tr style=\"text-align: right;\">\n",
       "      <th></th>\n",
       "      <th>URI</th>\n",
       "      <th>name</th>\n",
       "      <th>text</th>\n",
       "    </tr>\n",
       "  </thead>\n",
       "  <tbody>\n",
       "    <tr>\n",
       "      <th>0</th>\n",
       "      <td>&lt;http://dbpedia.org/resource/Digby_Morrell&gt;</td>\n",
       "      <td>Digby Morrell</td>\n",
       "      <td>digby morrell born 10 october 1979 is a former...</td>\n",
       "    </tr>\n",
       "    <tr>\n",
       "      <th>1</th>\n",
       "      <td>&lt;http://dbpedia.org/resource/Alfred_J._Lewy&gt;</td>\n",
       "      <td>Alfred J. Lewy</td>\n",
       "      <td>alfred j lewy aka sandy lewy graduated from un...</td>\n",
       "    </tr>\n",
       "    <tr>\n",
       "      <th>2</th>\n",
       "      <td>&lt;http://dbpedia.org/resource/Harpdog_Brown&gt;</td>\n",
       "      <td>Harpdog Brown</td>\n",
       "      <td>harpdog brown is a singer and harmonica player...</td>\n",
       "    </tr>\n",
       "    <tr>\n",
       "      <th>3</th>\n",
       "      <td>&lt;http://dbpedia.org/resource/Franz_Rottensteiner&gt;</td>\n",
       "      <td>Franz Rottensteiner</td>\n",
       "      <td>franz rottensteiner born in waidmannsfeld lowe...</td>\n",
       "    </tr>\n",
       "    <tr>\n",
       "      <th>4</th>\n",
       "      <td>&lt;http://dbpedia.org/resource/G-Enka&gt;</td>\n",
       "      <td>G-Enka</td>\n",
       "      <td>henry krvits born 30 december 1974 in tallinn ...</td>\n",
       "    </tr>\n",
       "    <tr>\n",
       "      <th>5</th>\n",
       "      <td>&lt;http://dbpedia.org/resource/Sam_Henderson&gt;</td>\n",
       "      <td>Sam Henderson</td>\n",
       "      <td>sam henderson born october 18 1969 is an ameri...</td>\n",
       "    </tr>\n",
       "    <tr>\n",
       "      <th>6</th>\n",
       "      <td>&lt;http://dbpedia.org/resource/Aaron_LaCrate&gt;</td>\n",
       "      <td>Aaron LaCrate</td>\n",
       "      <td>aaron lacrate is an american music producer re...</td>\n",
       "    </tr>\n",
       "    <tr>\n",
       "      <th>7</th>\n",
       "      <td>&lt;http://dbpedia.org/resource/Trevor_Ferguson&gt;</td>\n",
       "      <td>Trevor Ferguson</td>\n",
       "      <td>trevor ferguson aka john farrow born 11 novemb...</td>\n",
       "    </tr>\n",
       "    <tr>\n",
       "      <th>8</th>\n",
       "      <td>&lt;http://dbpedia.org/resource/Grant_Nelson&gt;</td>\n",
       "      <td>Grant Nelson</td>\n",
       "      <td>grant nelson born 27 april 1971 in london also...</td>\n",
       "    </tr>\n",
       "    <tr>\n",
       "      <th>9</th>\n",
       "      <td>&lt;http://dbpedia.org/resource/Cathy_Caruth&gt;</td>\n",
       "      <td>Cathy Caruth</td>\n",
       "      <td>cathy caruth born 1955 is frank h t rhodes pro...</td>\n",
       "    </tr>\n",
       "    <tr>\n",
       "      <th>10</th>\n",
       "      <td>&lt;http://dbpedia.org/resource/Sophie_Crumb&gt;</td>\n",
       "      <td>Sophie Crumb</td>\n",
       "      <td>sophia violet sophie crumb born september 27 1...</td>\n",
       "    </tr>\n",
       "    <tr>\n",
       "      <th>11</th>\n",
       "      <td>&lt;http://dbpedia.org/resource/Jenn_Ashworth&gt;</td>\n",
       "      <td>Jenn Ashworth</td>\n",
       "      <td>jenn ashworth is an english writer she was bor...</td>\n",
       "    </tr>\n",
       "    <tr>\n",
       "      <th>12</th>\n",
       "      <td>&lt;http://dbpedia.org/resource/Jonathan_Hoefler&gt;</td>\n",
       "      <td>Jonathan Hoefler</td>\n",
       "      <td>jonathan hoefler born august 22 1970 is an ame...</td>\n",
       "    </tr>\n",
       "    <tr>\n",
       "      <th>13</th>\n",
       "      <td>&lt;http://dbpedia.org/resource/Anthony_Gueterboc...</td>\n",
       "      <td>Anthony Gueterbock, 18th Baron Berkeley</td>\n",
       "      <td>anthony fitzhardinge gueterbock 18th baron ber...</td>\n",
       "    </tr>\n",
       "    <tr>\n",
       "      <th>14</th>\n",
       "      <td>&lt;http://dbpedia.org/resource/David_Chernushenko&gt;</td>\n",
       "      <td>David Chernushenko</td>\n",
       "      <td>david chernushenko born june 1963 in calgary a...</td>\n",
       "    </tr>\n",
       "    <tr>\n",
       "      <th>15</th>\n",
       "      <td>&lt;http://dbpedia.org/resource/Joerg_Steineck&gt;</td>\n",
       "      <td>Joerg Steineck</td>\n",
       "      <td>joerg steineck is a german filmmaker editor an...</td>\n",
       "    </tr>\n",
       "    <tr>\n",
       "      <th>16</th>\n",
       "      <td>&lt;http://dbpedia.org/resource/Andrew_Pinsent&gt;</td>\n",
       "      <td>Andrew Pinsent</td>\n",
       "      <td>fr andrew pinsent born 19 august 1966 is resea...</td>\n",
       "    </tr>\n",
       "    <tr>\n",
       "      <th>17</th>\n",
       "      <td>&lt;http://dbpedia.org/resource/Paddy_Dunne_(Gael...</td>\n",
       "      <td>Paddy Dunne (Gaelic footballer)</td>\n",
       "      <td>paddy dunne was a gaelic football player from ...</td>\n",
       "    </tr>\n",
       "    <tr>\n",
       "      <th>18</th>\n",
       "      <td>&lt;http://dbpedia.org/resource/Alexandros_Mouzas&gt;</td>\n",
       "      <td>Alexandros Mouzas</td>\n",
       "      <td>alexandros mouzas born 1962 is a greek compose...</td>\n",
       "    </tr>\n",
       "    <tr>\n",
       "      <th>19</th>\n",
       "      <td>&lt;http://dbpedia.org/resource/John_Angus_Campbell&gt;</td>\n",
       "      <td>John Angus Campbell</td>\n",
       "      <td>john angus campbell born march 10 1942 in port...</td>\n",
       "    </tr>\n",
       "    <tr>\n",
       "      <th>20</th>\n",
       "      <td>&lt;http://dbpedia.org/resource/Chris_Batstone&gt;</td>\n",
       "      <td>Chris Batstone</td>\n",
       "      <td>chris batstone was the 20002002 lead singer of...</td>\n",
       "    </tr>\n",
       "    <tr>\n",
       "      <th>21</th>\n",
       "      <td>&lt;http://dbpedia.org/resource/Ceiron_Thomas&gt;</td>\n",
       "      <td>Ceiron Thomas</td>\n",
       "      <td>ceiron thomas born 23 october 1983 is a welsh ...</td>\n",
       "    </tr>\n",
       "    <tr>\n",
       "      <th>22</th>\n",
       "      <td>&lt;http://dbpedia.org/resource/Adel_Sellimi&gt;</td>\n",
       "      <td>Adel Sellimi</td>\n",
       "      <td>adel sellimi arabic was born on 16 november 19...</td>\n",
       "    </tr>\n",
       "    <tr>\n",
       "      <th>23</th>\n",
       "      <td>&lt;http://dbpedia.org/resource/Faith_Soloway&gt;</td>\n",
       "      <td>Faith Soloway</td>\n",
       "      <td>faith soloway born march 28 1964 is an america...</td>\n",
       "    </tr>\n",
       "    <tr>\n",
       "      <th>24</th>\n",
       "      <td>&lt;http://dbpedia.org/resource/Tom_Jennings&gt;</td>\n",
       "      <td>Tom Jennings</td>\n",
       "      <td>tom jennings born 1955 as thomas daniel jennin...</td>\n",
       "    </tr>\n",
       "    <tr>\n",
       "      <th>25</th>\n",
       "      <td>&lt;http://dbpedia.org/resource/Vic_Stasiuk&gt;</td>\n",
       "      <td>Vic Stasiuk</td>\n",
       "      <td>victor john stasiuk born may 23 1929 is a reti...</td>\n",
       "    </tr>\n",
       "    <tr>\n",
       "      <th>26</th>\n",
       "      <td>&lt;http://dbpedia.org/resource/Anthony_Caruana&gt;</td>\n",
       "      <td>Anthony Caruana</td>\n",
       "      <td>anthony caruana born 2 january 1968 is a melbo...</td>\n",
       "    </tr>\n",
       "    <tr>\n",
       "      <th>27</th>\n",
       "      <td>&lt;http://dbpedia.org/resource/Ian_Mitchell_(aut...</td>\n",
       "      <td>Ian Mitchell (author)</td>\n",
       "      <td>ian mitchell is a scottish author who grew up ...</td>\n",
       "    </tr>\n",
       "    <tr>\n",
       "      <th>28</th>\n",
       "      <td>&lt;http://dbpedia.org/resource/Leon_Hapgood&gt;</td>\n",
       "      <td>Leon Hapgood</td>\n",
       "      <td>leon duane hapgood born 7 august 1979is an eng...</td>\n",
       "    </tr>\n",
       "    <tr>\n",
       "      <th>29</th>\n",
       "      <td>&lt;http://dbpedia.org/resource/Emily_Osment&gt;</td>\n",
       "      <td>Emily Osment</td>\n",
       "      <td>emily jordan osment born march 10 1992 is an a...</td>\n",
       "    </tr>\n",
       "    <tr>\n",
       "      <th>...</th>\n",
       "      <td>...</td>\n",
       "      <td>...</td>\n",
       "      <td>...</td>\n",
       "    </tr>\n",
       "    <tr>\n",
       "      <th>59041</th>\n",
       "      <td>&lt;http://dbpedia.org/resource/Mokob%C3%A9&gt;</td>\n",
       "      <td>Mokob%C3%A9</td>\n",
       "      <td>mokob traor better known by the mononym mokob ...</td>\n",
       "    </tr>\n",
       "    <tr>\n",
       "      <th>59042</th>\n",
       "      <td>&lt;http://dbpedia.org/resource/F._Enzio_Busche&gt;</td>\n",
       "      <td>F. Enzio Busche</td>\n",
       "      <td>friedrich enzio busche born 5 april 1930 dortm...</td>\n",
       "    </tr>\n",
       "    <tr>\n",
       "      <th>59043</th>\n",
       "      <td>&lt;http://dbpedia.org/resource/Christian_Wiman&gt;</td>\n",
       "      <td>Christian Wiman</td>\n",
       "      <td>christian wiman is an american poet and editor...</td>\n",
       "    </tr>\n",
       "    <tr>\n",
       "      <th>59044</th>\n",
       "      <td>&lt;http://dbpedia.org/resource/Ellyn_Setnor_Bogd...</td>\n",
       "      <td>Ellyn Setnor Bogdanoff</td>\n",
       "      <td>ellyn setnor bogdanoff born october 17 1959 wa...</td>\n",
       "    </tr>\n",
       "    <tr>\n",
       "      <th>59045</th>\n",
       "      <td>&lt;http://dbpedia.org/resource/Katya_Adler&gt;</td>\n",
       "      <td>Katya Adler</td>\n",
       "      <td>katya adler born 1972 is a british journalist ...</td>\n",
       "    </tr>\n",
       "    <tr>\n",
       "      <th>59046</th>\n",
       "      <td>&lt;http://dbpedia.org/resource/Anthony-Noel_Kelly&gt;</td>\n",
       "      <td>Anthony-Noel Kelly</td>\n",
       "      <td>anthonynoel kelly born 1956 is a british artis...</td>\n",
       "    </tr>\n",
       "    <tr>\n",
       "      <th>59047</th>\n",
       "      <td>&lt;http://dbpedia.org/resource/Mignon_Clyburn&gt;</td>\n",
       "      <td>Mignon Clyburn</td>\n",
       "      <td>mignon l clyburn born march 22 1962 is a commi...</td>\n",
       "    </tr>\n",
       "    <tr>\n",
       "      <th>59048</th>\n",
       "      <td>&lt;http://dbpedia.org/resource/Charles_A._Miller&gt;</td>\n",
       "      <td>Charles A. Miller</td>\n",
       "      <td>charles a miller born october 27 1937 in washi...</td>\n",
       "    </tr>\n",
       "    <tr>\n",
       "      <th>59049</th>\n",
       "      <td>&lt;http://dbpedia.org/resource/Rodolfo_Parada&gt;</td>\n",
       "      <td>Rodolfo Parada</td>\n",
       "      <td>rodolfo parada lillo is a chilean musician com...</td>\n",
       "    </tr>\n",
       "    <tr>\n",
       "      <th>59050</th>\n",
       "      <td>&lt;http://dbpedia.org/resource/Giwi_Margwelaschw...</td>\n",
       "      <td>Giwi Margwelaschwili</td>\n",
       "      <td>giwi margwelaschwili georgian born december 14...</td>\n",
       "    </tr>\n",
       "    <tr>\n",
       "      <th>59051</th>\n",
       "      <td>&lt;http://dbpedia.org/resource/Geoffrey_Kipsang&gt;</td>\n",
       "      <td>Geoffrey Kipsang</td>\n",
       "      <td>geoffrey kipsang kamworor born 22 november 199...</td>\n",
       "    </tr>\n",
       "    <tr>\n",
       "      <th>59052</th>\n",
       "      <td>&lt;http://dbpedia.org/resource/Dave_Nilsson&gt;</td>\n",
       "      <td>Dave Nilsson</td>\n",
       "      <td>david wayne nilsson born 14 december 1969 is a...</td>\n",
       "    </tr>\n",
       "    <tr>\n",
       "      <th>59053</th>\n",
       "      <td>&lt;http://dbpedia.org/resource/Jessica_Jordan&gt;</td>\n",
       "      <td>Jessica Jordan</td>\n",
       "      <td>jessica anne jordan burton born 6 may 1984 in ...</td>\n",
       "    </tr>\n",
       "    <tr>\n",
       "      <th>59054</th>\n",
       "      <td>&lt;http://dbpedia.org/resource/Marina_Mulyayeva&gt;</td>\n",
       "      <td>Marina Mulyayeva</td>\n",
       "      <td>marina vladimirovna mulyayeva kazakh born apri...</td>\n",
       "    </tr>\n",
       "    <tr>\n",
       "      <th>59055</th>\n",
       "      <td>&lt;http://dbpedia.org/resource/Jo%C3%ABl_de_Rosnay&gt;</td>\n",
       "      <td>Jo%C3%ABl de Rosnay</td>\n",
       "      <td>jol de rosnay born 1937 phd from the massachus...</td>\n",
       "    </tr>\n",
       "    <tr>\n",
       "      <th>59056</th>\n",
       "      <td>&lt;http://dbpedia.org/resource/Amy_Jenkins&gt;</td>\n",
       "      <td>Amy Jenkins</td>\n",
       "      <td>amy jenkins born 1966 in london is an english ...</td>\n",
       "    </tr>\n",
       "    <tr>\n",
       "      <th>59057</th>\n",
       "      <td>&lt;http://dbpedia.org/resource/Roy_Zimmerman_(sa...</td>\n",
       "      <td>Roy Zimmerman (satirist)</td>\n",
       "      <td>roy zimmerman born october 7 1957 is an americ...</td>\n",
       "    </tr>\n",
       "    <tr>\n",
       "      <th>59058</th>\n",
       "      <td>&lt;http://dbpedia.org/resource/George_Krause&gt;</td>\n",
       "      <td>George Krause</td>\n",
       "      <td>george krause born 1937 philadelphia pennsylva...</td>\n",
       "    </tr>\n",
       "    <tr>\n",
       "      <th>59059</th>\n",
       "      <td>&lt;http://dbpedia.org/resource/Sean_Slade&gt;</td>\n",
       "      <td>Sean Slade</td>\n",
       "      <td>sean slade b november 14 1957 lansing michigan...</td>\n",
       "    </tr>\n",
       "    <tr>\n",
       "      <th>59060</th>\n",
       "      <td>&lt;http://dbpedia.org/resource/Lynne_Lipton&gt;</td>\n",
       "      <td>Lynne Lipton</td>\n",
       "      <td>lynne lipton is an american film stage televis...</td>\n",
       "    </tr>\n",
       "    <tr>\n",
       "      <th>59061</th>\n",
       "      <td>&lt;http://dbpedia.org/resource/Rod_Wilt&gt;</td>\n",
       "      <td>Rod Wilt</td>\n",
       "      <td>rod wilt is a former republican member of the ...</td>\n",
       "    </tr>\n",
       "    <tr>\n",
       "      <th>59062</th>\n",
       "      <td>&lt;http://dbpedia.org/resource/Scott_Baker_(judge)&gt;</td>\n",
       "      <td>Scott Baker (judge)</td>\n",
       "      <td>sir thomas scott gillespie baker born 10 decem...</td>\n",
       "    </tr>\n",
       "    <tr>\n",
       "      <th>59063</th>\n",
       "      <td>&lt;http://dbpedia.org/resource/Dragoljub_Ojdani%...</td>\n",
       "      <td>Dragoljub Ojdani%C4%87</td>\n",
       "      <td>dragoljub ojdani serbian cyrillic born june 1 ...</td>\n",
       "    </tr>\n",
       "    <tr>\n",
       "      <th>59064</th>\n",
       "      <td>&lt;http://dbpedia.org/resource/Oz_Bengur&gt;</td>\n",
       "      <td>Oz Bengur</td>\n",
       "      <td>osman oz bengur born february 23 1949 is an am...</td>\n",
       "    </tr>\n",
       "    <tr>\n",
       "      <th>59065</th>\n",
       "      <td>&lt;http://dbpedia.org/resource/Dee_Brown_(basket...</td>\n",
       "      <td>Dee Brown (basketball, born 1968)</td>\n",
       "      <td>decovan kadell dee brown born november 29 1968...</td>\n",
       "    </tr>\n",
       "    <tr>\n",
       "      <th>59066</th>\n",
       "      <td>&lt;http://dbpedia.org/resource/Olari_Elts&gt;</td>\n",
       "      <td>Olari Elts</td>\n",
       "      <td>olari elts born april 27 1971 in tallinn eston...</td>\n",
       "    </tr>\n",
       "    <tr>\n",
       "      <th>59067</th>\n",
       "      <td>&lt;http://dbpedia.org/resource/Scott_F._Crago&gt;</td>\n",
       "      <td>Scott F. Crago</td>\n",
       "      <td>scott francis crago born july 26 1963 twin bro...</td>\n",
       "    </tr>\n",
       "    <tr>\n",
       "      <th>59068</th>\n",
       "      <td>&lt;http://dbpedia.org/resource/David_Cass_(footb...</td>\n",
       "      <td>David Cass (footballer)</td>\n",
       "      <td>david william royce cass born 27 march 1962 in...</td>\n",
       "    </tr>\n",
       "    <tr>\n",
       "      <th>59069</th>\n",
       "      <td>&lt;http://dbpedia.org/resource/Keith_Elias&gt;</td>\n",
       "      <td>Keith Elias</td>\n",
       "      <td>keith hector elias born february 3 1972 in lac...</td>\n",
       "    </tr>\n",
       "    <tr>\n",
       "      <th>59070</th>\n",
       "      <td>&lt;http://dbpedia.org/resource/Fawaz_Damrah&gt;</td>\n",
       "      <td>Fawaz Damrah</td>\n",
       "      <td>fawaz mohammed damrah arabic fawwz damra was t...</td>\n",
       "    </tr>\n",
       "  </tbody>\n",
       "</table>\n",
       "<p>59071 rows × 3 columns</p>\n",
       "</div>"
      ],
      "text/plain": [
       "                                                     URI  \\\n",
       "0            <http://dbpedia.org/resource/Digby_Morrell>   \n",
       "1           <http://dbpedia.org/resource/Alfred_J._Lewy>   \n",
       "2            <http://dbpedia.org/resource/Harpdog_Brown>   \n",
       "3      <http://dbpedia.org/resource/Franz_Rottensteiner>   \n",
       "4                   <http://dbpedia.org/resource/G-Enka>   \n",
       "5            <http://dbpedia.org/resource/Sam_Henderson>   \n",
       "6            <http://dbpedia.org/resource/Aaron_LaCrate>   \n",
       "7          <http://dbpedia.org/resource/Trevor_Ferguson>   \n",
       "8             <http://dbpedia.org/resource/Grant_Nelson>   \n",
       "9             <http://dbpedia.org/resource/Cathy_Caruth>   \n",
       "10            <http://dbpedia.org/resource/Sophie_Crumb>   \n",
       "11           <http://dbpedia.org/resource/Jenn_Ashworth>   \n",
       "12        <http://dbpedia.org/resource/Jonathan_Hoefler>   \n",
       "13     <http://dbpedia.org/resource/Anthony_Gueterboc...   \n",
       "14      <http://dbpedia.org/resource/David_Chernushenko>   \n",
       "15          <http://dbpedia.org/resource/Joerg_Steineck>   \n",
       "16          <http://dbpedia.org/resource/Andrew_Pinsent>   \n",
       "17     <http://dbpedia.org/resource/Paddy_Dunne_(Gael...   \n",
       "18       <http://dbpedia.org/resource/Alexandros_Mouzas>   \n",
       "19     <http://dbpedia.org/resource/John_Angus_Campbell>   \n",
       "20          <http://dbpedia.org/resource/Chris_Batstone>   \n",
       "21           <http://dbpedia.org/resource/Ceiron_Thomas>   \n",
       "22            <http://dbpedia.org/resource/Adel_Sellimi>   \n",
       "23           <http://dbpedia.org/resource/Faith_Soloway>   \n",
       "24            <http://dbpedia.org/resource/Tom_Jennings>   \n",
       "25             <http://dbpedia.org/resource/Vic_Stasiuk>   \n",
       "26         <http://dbpedia.org/resource/Anthony_Caruana>   \n",
       "27     <http://dbpedia.org/resource/Ian_Mitchell_(aut...   \n",
       "28            <http://dbpedia.org/resource/Leon_Hapgood>   \n",
       "29            <http://dbpedia.org/resource/Emily_Osment>   \n",
       "...                                                  ...   \n",
       "59041          <http://dbpedia.org/resource/Mokob%C3%A9>   \n",
       "59042      <http://dbpedia.org/resource/F._Enzio_Busche>   \n",
       "59043      <http://dbpedia.org/resource/Christian_Wiman>   \n",
       "59044  <http://dbpedia.org/resource/Ellyn_Setnor_Bogd...   \n",
       "59045          <http://dbpedia.org/resource/Katya_Adler>   \n",
       "59046   <http://dbpedia.org/resource/Anthony-Noel_Kelly>   \n",
       "59047       <http://dbpedia.org/resource/Mignon_Clyburn>   \n",
       "59048    <http://dbpedia.org/resource/Charles_A._Miller>   \n",
       "59049       <http://dbpedia.org/resource/Rodolfo_Parada>   \n",
       "59050  <http://dbpedia.org/resource/Giwi_Margwelaschw...   \n",
       "59051     <http://dbpedia.org/resource/Geoffrey_Kipsang>   \n",
       "59052         <http://dbpedia.org/resource/Dave_Nilsson>   \n",
       "59053       <http://dbpedia.org/resource/Jessica_Jordan>   \n",
       "59054     <http://dbpedia.org/resource/Marina_Mulyayeva>   \n",
       "59055  <http://dbpedia.org/resource/Jo%C3%ABl_de_Rosnay>   \n",
       "59056          <http://dbpedia.org/resource/Amy_Jenkins>   \n",
       "59057  <http://dbpedia.org/resource/Roy_Zimmerman_(sa...   \n",
       "59058        <http://dbpedia.org/resource/George_Krause>   \n",
       "59059           <http://dbpedia.org/resource/Sean_Slade>   \n",
       "59060         <http://dbpedia.org/resource/Lynne_Lipton>   \n",
       "59061             <http://dbpedia.org/resource/Rod_Wilt>   \n",
       "59062  <http://dbpedia.org/resource/Scott_Baker_(judge)>   \n",
       "59063  <http://dbpedia.org/resource/Dragoljub_Ojdani%...   \n",
       "59064            <http://dbpedia.org/resource/Oz_Bengur>   \n",
       "59065  <http://dbpedia.org/resource/Dee_Brown_(basket...   \n",
       "59066           <http://dbpedia.org/resource/Olari_Elts>   \n",
       "59067       <http://dbpedia.org/resource/Scott_F._Crago>   \n",
       "59068  <http://dbpedia.org/resource/David_Cass_(footb...   \n",
       "59069          <http://dbpedia.org/resource/Keith_Elias>   \n",
       "59070         <http://dbpedia.org/resource/Fawaz_Damrah>   \n",
       "\n",
       "                                          name  \\\n",
       "0                                Digby Morrell   \n",
       "1                               Alfred J. Lewy   \n",
       "2                                Harpdog Brown   \n",
       "3                          Franz Rottensteiner   \n",
       "4                                       G-Enka   \n",
       "5                                Sam Henderson   \n",
       "6                                Aaron LaCrate   \n",
       "7                              Trevor Ferguson   \n",
       "8                                 Grant Nelson   \n",
       "9                                 Cathy Caruth   \n",
       "10                                Sophie Crumb   \n",
       "11                               Jenn Ashworth   \n",
       "12                            Jonathan Hoefler   \n",
       "13     Anthony Gueterbock, 18th Baron Berkeley   \n",
       "14                          David Chernushenko   \n",
       "15                              Joerg Steineck   \n",
       "16                              Andrew Pinsent   \n",
       "17             Paddy Dunne (Gaelic footballer)   \n",
       "18                           Alexandros Mouzas   \n",
       "19                         John Angus Campbell   \n",
       "20                              Chris Batstone   \n",
       "21                               Ceiron Thomas   \n",
       "22                                Adel Sellimi   \n",
       "23                               Faith Soloway   \n",
       "24                                Tom Jennings   \n",
       "25                                 Vic Stasiuk   \n",
       "26                             Anthony Caruana   \n",
       "27                       Ian Mitchell (author)   \n",
       "28                                Leon Hapgood   \n",
       "29                                Emily Osment   \n",
       "...                                        ...   \n",
       "59041                              Mokob%C3%A9   \n",
       "59042                          F. Enzio Busche   \n",
       "59043                          Christian Wiman   \n",
       "59044                   Ellyn Setnor Bogdanoff   \n",
       "59045                              Katya Adler   \n",
       "59046                       Anthony-Noel Kelly   \n",
       "59047                           Mignon Clyburn   \n",
       "59048                        Charles A. Miller   \n",
       "59049                           Rodolfo Parada   \n",
       "59050                     Giwi Margwelaschwili   \n",
       "59051                         Geoffrey Kipsang   \n",
       "59052                             Dave Nilsson   \n",
       "59053                           Jessica Jordan   \n",
       "59054                         Marina Mulyayeva   \n",
       "59055                      Jo%C3%ABl de Rosnay   \n",
       "59056                              Amy Jenkins   \n",
       "59057                 Roy Zimmerman (satirist)   \n",
       "59058                            George Krause   \n",
       "59059                               Sean Slade   \n",
       "59060                             Lynne Lipton   \n",
       "59061                                 Rod Wilt   \n",
       "59062                      Scott Baker (judge)   \n",
       "59063                   Dragoljub Ojdani%C4%87   \n",
       "59064                                Oz Bengur   \n",
       "59065        Dee Brown (basketball, born 1968)   \n",
       "59066                               Olari Elts   \n",
       "59067                           Scott F. Crago   \n",
       "59068                  David Cass (footballer)   \n",
       "59069                              Keith Elias   \n",
       "59070                             Fawaz Damrah   \n",
       "\n",
       "                                                    text  \n",
       "0      digby morrell born 10 october 1979 is a former...  \n",
       "1      alfred j lewy aka sandy lewy graduated from un...  \n",
       "2      harpdog brown is a singer and harmonica player...  \n",
       "3      franz rottensteiner born in waidmannsfeld lowe...  \n",
       "4      henry krvits born 30 december 1974 in tallinn ...  \n",
       "5      sam henderson born october 18 1969 is an ameri...  \n",
       "6      aaron lacrate is an american music producer re...  \n",
       "7      trevor ferguson aka john farrow born 11 novemb...  \n",
       "8      grant nelson born 27 april 1971 in london also...  \n",
       "9      cathy caruth born 1955 is frank h t rhodes pro...  \n",
       "10     sophia violet sophie crumb born september 27 1...  \n",
       "11     jenn ashworth is an english writer she was bor...  \n",
       "12     jonathan hoefler born august 22 1970 is an ame...  \n",
       "13     anthony fitzhardinge gueterbock 18th baron ber...  \n",
       "14     david chernushenko born june 1963 in calgary a...  \n",
       "15     joerg steineck is a german filmmaker editor an...  \n",
       "16     fr andrew pinsent born 19 august 1966 is resea...  \n",
       "17     paddy dunne was a gaelic football player from ...  \n",
       "18     alexandros mouzas born 1962 is a greek compose...  \n",
       "19     john angus campbell born march 10 1942 in port...  \n",
       "20     chris batstone was the 20002002 lead singer of...  \n",
       "21     ceiron thomas born 23 october 1983 is a welsh ...  \n",
       "22     adel sellimi arabic was born on 16 november 19...  \n",
       "23     faith soloway born march 28 1964 is an america...  \n",
       "24     tom jennings born 1955 as thomas daniel jennin...  \n",
       "25     victor john stasiuk born may 23 1929 is a reti...  \n",
       "26     anthony caruana born 2 january 1968 is a melbo...  \n",
       "27     ian mitchell is a scottish author who grew up ...  \n",
       "28     leon duane hapgood born 7 august 1979is an eng...  \n",
       "29     emily jordan osment born march 10 1992 is an a...  \n",
       "...                                                  ...  \n",
       "59041  mokob traor better known by the mononym mokob ...  \n",
       "59042  friedrich enzio busche born 5 april 1930 dortm...  \n",
       "59043  christian wiman is an american poet and editor...  \n",
       "59044  ellyn setnor bogdanoff born october 17 1959 wa...  \n",
       "59045  katya adler born 1972 is a british journalist ...  \n",
       "59046  anthonynoel kelly born 1956 is a british artis...  \n",
       "59047  mignon l clyburn born march 22 1962 is a commi...  \n",
       "59048  charles a miller born october 27 1937 in washi...  \n",
       "59049  rodolfo parada lillo is a chilean musician com...  \n",
       "59050  giwi margwelaschwili georgian born december 14...  \n",
       "59051  geoffrey kipsang kamworor born 22 november 199...  \n",
       "59052  david wayne nilsson born 14 december 1969 is a...  \n",
       "59053  jessica anne jordan burton born 6 may 1984 in ...  \n",
       "59054  marina vladimirovna mulyayeva kazakh born apri...  \n",
       "59055  jol de rosnay born 1937 phd from the massachus...  \n",
       "59056  amy jenkins born 1966 in london is an english ...  \n",
       "59057  roy zimmerman born october 7 1957 is an americ...  \n",
       "59058  george krause born 1937 philadelphia pennsylva...  \n",
       "59059  sean slade b november 14 1957 lansing michigan...  \n",
       "59060  lynne lipton is an american film stage televis...  \n",
       "59061  rod wilt is a former republican member of the ...  \n",
       "59062  sir thomas scott gillespie baker born 10 decem...  \n",
       "59063  dragoljub ojdani serbian cyrillic born june 1 ...  \n",
       "59064  osman oz bengur born february 23 1949 is an am...  \n",
       "59065  decovan kadell dee brown born november 29 1968...  \n",
       "59066  olari elts born april 27 1971 in tallinn eston...  \n",
       "59067  scott francis crago born july 26 1963 twin bro...  \n",
       "59068  david william royce cass born 27 march 1962 in...  \n",
       "59069  keith hector elias born february 3 1972 in lac...  \n",
       "59070  fawaz mohammed damrah arabic fawwz damra was t...  \n",
       "\n",
       "[59071 rows x 3 columns]"
      ]
     },
     "execution_count": 2,
     "metadata": {},
     "output_type": "execute_result"
    }
   ],
   "source": [
    "# import wiki data\n",
    "wiki = pd.read_csv('people_wiki.csv')\n",
    "wiki"
   ]
  },
  {
   "cell_type": "markdown",
   "metadata": {},
   "source": [
    "In the original data, each Wikipedia article is represented by a URI, a name, and a string containing the entire text of the article. Recall from the video lectures that LDA requires documents to be represented as a _bag of words_, which ignores word ordering in the document but retains information on how many times each word appears. As we have seen in our previous encounters with text data, words such as 'the', 'a', or 'and' are by far the most frequent, but they appear so commonly in the English language that they tell us almost nothing about how similar or dissimilar two documents might be. \n",
    "\n",
    "Therefore, before we train our LDA model, we will preprocess the Wikipedia data in two steps: first, we will create a bag of words representation for each article, and then we will remove the common words that don't help us to distinguish between documents. For both of these tasks we can use pre-implemented tools from GraphLab Create:"
   ]
  },
  {
   "cell_type": "code",
   "execution_count": 12,
   "metadata": {
    "collapsed": false
   },
   "outputs": [
    {
     "name": "stderr",
     "output_type": "stream",
     "text": [
      "A newer version of GraphLab Create (v2.0) is available! Your current version is v1.10.\n",
      "\n",
      "You can use pip to upgrade the graphlab-create package. For more information see https://dato.com/products/create/upgrade.\n"
     ]
    }
   ],
   "source": [
    "import graphlab as gl"
   ]
  },
  {
   "cell_type": "code",
   "execution_count": 13,
   "metadata": {
    "collapsed": false
   },
   "outputs": [],
   "source": [
    "from sklearn.feature_extraction.text import CountVectorizer\n",
    "vectorizer = CountVectorizer(token_pattern=r'\\b\\w+\\b',max_df=0.5,stop_words=gl.text_analytics.stopwords())\n",
    "word_count = vectorizer.fit_transform(wiki['text'])\n",
    "\n",
    "map_index_to_word = dict(zip(vectorizer.get_feature_names(),range(len(vectorizer.get_feature_names()))))\n",
    "map_index_to_word = pd.DataFrame(map_index_to_word.keys(),index=map_index_to_word.values(),columns=['word'])"
   ]
  },
  {
   "cell_type": "code",
   "execution_count": 14,
   "metadata": {
    "collapsed": true
   },
   "outputs": [],
   "source": [
    "from sklearn.feature_extraction.text import TfidfVectorizer\n",
    "tf_idf = TfidfVectorizer(token_pattern=r'\\b\\w+\\b',norm=None,smooth_idf=False,max_df=0.5,stop_words=gl.text_analytics.stopwords())\n",
    "tf_idf_matrix = tf_idf.fit_transform(wiki['text'])\n",
    "\n",
    "tf_idf_matrix = tf_idf_matrix-word_count"
   ]
  },
  {
   "cell_type": "code",
   "execution_count": 17,
   "metadata": {
    "collapsed": false
   },
   "outputs": [],
   "source": [
    "def unpack_dict(matrix, map_index_to_word):\n",
    "    table = map_index_to_word['word']\n",
    "    data = matrix.data\n",
    "    indices = matrix.indices\n",
    "    indptr = matrix.indptr\n",
    "    \n",
    "    num_doc = matrix.shape[0]\n",
    "\n",
    "    return [{k:v for k,v in zip([table[word_id] for word_id in indices[indptr[i]:indptr[i+1]] ],\n",
    "                                 data[indptr[i]:indptr[i+1]].tolist())} \\\n",
    "               for i in xrange(num_doc) ]\n",
    "\n",
    "wiki_docs = unpack_dict(word_count, map_index_to_word)"
   ]
  },
  {
   "cell_type": "markdown",
   "metadata": {},
   "source": [
    "## Model fitting and interpretation\n",
    "In the video lectures we saw that Gibbs sampling can be used to perform inference in the LDA model. In this assignment we will use a GraphLab Create method to learn the topic model for our Wikipedia data, and our main emphasis will be on interpreting the results. We'll begin by creating the topic model using create() from GraphLab Create's topic_model module.\n",
    "\n",
    "Note: This may take several minutes to run."
   ]
  },
  {
   "cell_type": "code",
   "execution_count": 22,
   "metadata": {
    "collapsed": false
   },
   "outputs": [
    {
     "data": {
      "text/plain": [
       "LatentDirichletAllocation(batch_size=128, doc_topic_prior=None,\n",
       "             evaluate_every=-1, learning_decay=0.7,\n",
       "             learning_method='online', learning_offset=10.0,\n",
       "             max_doc_update_iter=100, max_iter=10, mean_change_tol=0.001,\n",
       "             n_jobs=1, n_topics=10, perp_tol=0.1, random_state=None,\n",
       "             topic_word_prior=None, total_samples=1000000.0, verbose=0)"
      ]
     },
     "execution_count": 22,
     "metadata": {},
     "output_type": "execute_result"
    }
   ],
   "source": [
    "from sklearn.decomposition import LatentDirichletAllocation\n",
    "topic_model = LatentDirichletAllocation()\n",
    "#topic_model.fit(tf_idf_matrix)\n",
    "topic_model.fit(word_count)\n",
    "#topic_model = gl.topic_model.create(wiki_docs, num_topics=10, num_iterations=200)"
   ]
  },
  {
   "cell_type": "markdown",
   "metadata": {},
   "source": [
    "GraphLab provides a useful summary of the model we have fitted, including the hyperparameter settings for alpha, gamma (note that GraphLab Create calls this parameter beta), and K (the number of topics); the structure of the output data; and some useful methods for understanding the results."
   ]
  },
  {
   "cell_type": "code",
   "execution_count": 23,
   "metadata": {
    "collapsed": false
   },
   "outputs": [],
   "source": [
    "topic_model\n",
    "#topic_matrix = topic_model.transform(tf_idf_matrix)\n",
    "topic_matrix = topic_model.transform(word_count)"
   ]
  },
  {
   "cell_type": "code",
   "execution_count": 24,
   "metadata": {
    "collapsed": false
   },
   "outputs": [
    {
     "data": {
      "text/plain": [
       "[[u'party',\n",
       "  u'member',\n",
       "  u'election',\n",
       "  u'minister',\n",
       "  u'served',\n",
       "  u'elected',\n",
       "  u'state',\n",
       "  u'general',\n",
       "  u'president',\n",
       "  u'appointed'],\n",
       " [u'league',\n",
       "  u'season',\n",
       "  u'played',\n",
       "  u'games',\n",
       "  u'coach',\n",
       "  u'baseball',\n",
       "  u'team',\n",
       "  u'career',\n",
       "  u'game',\n",
       "  u'university'],\n",
       " [u'de',\n",
       "  u'la',\n",
       "  u'italian',\n",
       "  u'el',\n",
       "  u'spanish',\n",
       "  u'french',\n",
       "  u'del',\n",
       "  u'spain',\n",
       "  u'puerto',\n",
       "  u'mexican'],\n",
       " [u'chinese',\n",
       "  u'german',\n",
       "  u'china',\n",
       "  u'norwegian',\n",
       "  u'hong',\n",
       "  u'kong',\n",
       "  u'japanese',\n",
       "  u'swedish',\n",
       "  u'germany',\n",
       "  u'bishop'],\n",
       " [u'film',\n",
       "  u'television',\n",
       "  u'series',\n",
       "  u'show',\n",
       "  u'award',\n",
       "  u'radio',\n",
       "  u'appeared',\n",
       "  u'book',\n",
       "  u'tv',\n",
       "  u'including'],\n",
       " [u'music',\n",
       "  u'album',\n",
       "  u'band',\n",
       "  u'released',\n",
       "  u'performed',\n",
       "  u'song',\n",
       "  u'records',\n",
       "  u'musical',\n",
       "  u'orchestra',\n",
       "  u'songs'],\n",
       " [u'india',\n",
       "  u'indian',\n",
       "  u'russian',\n",
       "  u'chess',\n",
       "  u'greek',\n",
       "  u'moscow',\n",
       "  u'turkish',\n",
       "  u'sri',\n",
       "  u'khan',\n",
       "  u'ali'],\n",
       " [u'university',\n",
       "  u'art',\n",
       "  u'work',\n",
       "  u'professor',\n",
       "  u'research',\n",
       "  u'published',\n",
       "  u'college',\n",
       "  u'arts',\n",
       "  u'book',\n",
       "  u'american'],\n",
       " [u'university',\n",
       "  u'served',\n",
       "  u'president',\n",
       "  u'united',\n",
       "  u'law',\n",
       "  u'school',\n",
       "  u'director',\n",
       "  u'international',\n",
       "  u'states',\n",
       "  u'board'],\n",
       " [u'world',\n",
       "  u'won',\n",
       "  u'team',\n",
       "  u'played',\n",
       "  u'season',\n",
       "  u'club',\n",
       "  u'year',\n",
       "  u'time',\n",
       "  u'football',\n",
       "  u'career']]"
      ]
     },
     "execution_count": 24,
     "metadata": {},
     "output_type": "execute_result"
    }
   ],
   "source": [
    "features=vectorizer.get_feature_names()\n",
    "topic_words=[]\n",
    "for j in range(topic_matrix.shape[1]):\n",
    "    topic_words.append([features[i] for i in np.argsort(topic_model.components_[j,:])[::-1].tolist()[0:10]])\n",
    "topic_words"
   ]
  },
  {
   "cell_type": "markdown",
   "metadata": {},
   "source": [
    "It is certainly useful to have pre-implemented methods available for LDA, but as with our previous methods for clustering and retrieval, implementing and fitting the model gets us only halfway towards our objective. We now need to analyze the fitted model to understand what it has done with our data and whether it will be useful as a document classification system. This can be a challenging task in itself, particularly when the model that we use is complex. We will begin by outlining a sequence of objectives that will help us understand our model in detail. In particular, we will\n",
    "\n",
    "* get the top words in each topic and use these to identify topic themes\n",
    "* predict topic distributions for some example documents\n",
    "* compare the quality of LDA \"nearest neighbors\" to the NN output from the first assignment\n",
    "* understand the role of model hyperparameters alpha and gamma"
   ]
  },
  {
   "cell_type": "markdown",
   "metadata": {},
   "source": [
    "# Identifying topic themes by top words\n",
    "\n",
    "We'll start by trying to identify the topics learned by our model with some major themes. As a preliminary check on the results of applying this method, it is reasonable to hope that the model has been able to learn topics that correspond to recognizable categories. In order to do this, we must first recall what exactly a 'topic' is in the context of LDA. \n",
    "\n",
    "In the video lectures on LDA we learned that a topic is a probability distribution over words in the vocabulary; that is, each topic assigns a particular probability to every one of the unique words that appears in our data. Different topics will assign different probabilities to the same word: for instance, a topic that ends up describing science and technology articles might place more probability on the word 'university' than a topic that describes sports or politics. Looking at the highest probability words in each topic will thus give us a sense of its major themes. Ideally we would find that each topic is identifiable with some clear theme _and_ that all the topics are relatively distinct.\n",
    "\n",
    "We can use the GraphLab Create function get_topics() to view the top words (along with their associated probabilities) from each topic.\n",
    "\n",
    "__Quiz Question:__ Identify the top 3 most probable words for the first topic. "
   ]
  },
  {
   "cell_type": "markdown",
   "metadata": {},
   "source": [
    "__ Quiz Question:__ What is the sum of the probabilities assigned to the top 50 words in the 3rd topic?"
   ]
  },
  {
   "cell_type": "markdown",
   "metadata": {},
   "source": [
    "Let's look at the top 10 words for each topic to see if we can identify any themes:"
   ]
  },
  {
   "cell_type": "markdown",
   "metadata": {},
   "source": [
    "We propose the following themes for each topic:\n",
    "\n",
    "- topic 0: Science and research\n",
    "- topic 2: Team sports\n",
    "- topic 3: Music, TV, and film\n",
    "- topic 4: American college and politics\n",
    "- topic 5: General politics\n",
    "- topic 6: Art and publishing\n",
    "- topic 7: Business\n",
    "- topic 8: International athletics\n",
    "- topic 9: Great Britain and Australia\n",
    "- topic 10: International music\n",
    "\n",
    "We'll save these themes for later:"
   ]
  },
  {
   "cell_type": "code",
   "execution_count": 9,
   "metadata": {
    "collapsed": true
   },
   "outputs": [],
   "source": [
    "themes = ['science and research','team sports','music, TV, and film','American college and politics','general politics', \\\n",
    "         'art and publishing','Business','international athletics','Great Britain and Australia','international music']"
   ]
  },
  {
   "cell_type": "markdown",
   "metadata": {},
   "source": [
    "### Measuring the importance of top words\n",
    "\n",
    "We can learn more about topics by exploring how they place probability mass (which we can think of as a weight) on each of their top words.\n",
    "\n",
    "We'll do this with two visualizations of the weights for the top words in each topic:\n",
    " - the weights of the top 100 words, sorted by the size\n",
    " - the total weight of the top 10 words\n"
   ]
  },
  {
   "cell_type": "markdown",
   "metadata": {},
   "source": [
    "Here's a plot for the top 100 words by weight in each topic:"
   ]
  },
  {
   "cell_type": "code",
   "execution_count": 21,
   "metadata": {
    "collapsed": false
   },
   "outputs": [
    {
     "data": {
      "text/plain": [
       "<matplotlib.text.Text at 0x11636add0>"
      ]
     },
     "execution_count": 21,
     "metadata": {},
     "output_type": "execute_result"
    },
    {
     "data": {
      "image/png": "[encoded data removed]",
      "text/plain": [
       "<matplotlib.figure.Figure at 0x1160caa50>"
      ]
     },
     "metadata": {},
     "output_type": "display_data"
    }
   ],
   "source": [
    "for i in range(10):\n",
    "    plt.plot(range(100),np.sort(topic_model.components_[i,:])[::-1][0:100])\n",
    "    #plt.plot(range(100), topic_model.get_topics(topic_ids=[i], num_words=100)['score'])\n",
    "plt.xlabel('Word rank')\n",
    "plt.ylabel('Probability')\n",
    "plt.title('Probabilities of Top 100 Words in each Topic')"
   ]
  },
  {
   "cell_type": "markdown",
   "metadata": {},
   "source": [
    "In the above plot, each line corresponds to one of our ten topics. Notice how for each topic, the weights drop off sharply as we move down the ranked list of most important words. This shows that the top 10-20 words in each topic are assigned a much greater weight than the remaining words - and remember from the summary of our topic model that our vocabulary has 547462 words in total!\n",
    "\n",
    "\n",
    "Next we plot the total weight assigned by each topic to its top 10 words: "
   ]
  },
  {
   "cell_type": "code",
   "execution_count": 34,
   "metadata": {
    "collapsed": false
   },
   "outputs": [
    {
     "data": {
      "image/png": "[encoded data removed]",
      "text/plain": [
       "<matplotlib.figure.Figure at 0x11a1a2390>"
      ]
     },
     "metadata": {},
     "output_type": "display_data"
    }
   ],
   "source": [
    "top_probs = [sum(np.sort(topic_model.components_[i,:])[::-1][0:10])/sum(topic_model.components_[i,:]) for i in range(10)]\n",
    "#top_probs = [sum(topic_model.get_topics(topic_ids=[i], num_words=10)['score']) for i in range(10)]\n",
    "\n",
    "ind = np.arange(10)\n",
    "width = 0.5\n",
    "\n",
    "fig, ax = plt.subplots()\n",
    "\n",
    "ax.bar(ind-(width/2),top_probs,width)\n",
    "ax.set_xticks(ind)\n",
    "\n",
    "plt.xlabel('Topic')\n",
    "plt.ylabel('Probability')\n",
    "plt.title('Total Probability of Top 10 Words in each Topic')\n",
    "plt.xlim(-0.5,9.5)\n",
    "plt.ylim(0,0.15)\n",
    "plt.show()"
   ]
  },
  {
   "cell_type": "markdown",
   "metadata": {},
   "source": [
    "Here we see that, for our topic model, the top 10 words only account for a small fraction (in this case, between 5% and 13%) of their topic's total probability mass. So while we can use the top words to identify broad themes for each topic, we should keep in mind that in reality these topics are more complex than a simple 10-word summary.\n",
    "\n",
    "Finally, we observe that some 'junk' words appear highly rated in some topics despite our efforts to remove unhelpful words before fitting the model; for example, the word 'born' appears as a top 10 word in three different topics, but it doesn't help us describe these topics at all."
   ]
  },
  {
   "cell_type": "markdown",
   "metadata": {},
   "source": [
    "# Topic distributions for some example documents\n",
    "\n",
    "As we noted in the introduction to this assignment, LDA allows for mixed membership, which means that each document can partially belong to several different topics. For each document, topic membership is expressed as a vector of weights that sum to one; the magnitude of each weight indicates the degree to which the document represents that particular topic.\n",
    "\n",
    "We'll explore this in our fitted model by looking at the topic distributions for a few example Wikipedia articles from our data set. We should find that these articles have the highest weights on the topics whose themes are most relevant to the subject of the article - for example, we'd expect an article on a politician to place relatively high weight on topics related to government, while an article about an athlete should place higher weight on topics related to sports or competition."
   ]
  },
  {
   "cell_type": "markdown",
   "metadata": {},
   "source": [
    "Topic distributions for documents can be obtained using GraphLab Create's predict() function. GraphLab Create uses a collapsed Gibbs sampler similar to the one described in the video lectures, where only the word assignments variables are sampled.  To get a document-specific topic proportion vector post-facto, predict() draws this vector from the conditional distribution given the sampled word assignments in the document.  Notice that, since these are draws from a _distribution_ over topics that the model has learned, we will get slightly different predictions each time we call this function on a document - we can see this below, where we predict the topic distribution for the article on Barack Obama:"
   ]
  },
  {
   "cell_type": "code",
   "execution_count": null,
   "metadata": {
    "collapsed": false
   },
   "outputs": [],
   "source": [
    "obama = gl.SArray([wiki_docs[int(np.where(wiki['name']=='Barack Obama')[0])]])\n",
    "pred1 = topic_model.predict(obama, output_type='probability')\n",
    "pred2 = topic_model.predict(obama, output_type='probability')\n",
    "print(gl.SFrame({' topics':themes, 'predictions (first draw)':pred1[0], 'predictions (second draw)':pred2[0]}))"
   ]
  },
  {
   "cell_type": "markdown",
   "metadata": {},
   "source": [
    "To get a more robust estimate of the topics for each document, we can average a large number of predictions for the same document:"
   ]
  },
  {
   "cell_type": "code",
   "execution_count": null,
   "metadata": {
    "collapsed": false
   },
   "outputs": [],
   "source": [
    "def average_predictions(model, test_document, num_trials=100):\n",
    "    avg_preds = np.zeros((model.num_topics))\n",
    "    for i in range(num_trials):\n",
    "        avg_preds += model.predict(test_document, output_type='probability')[0]\n",
    "    avg_preds = avg_preds/num_trials\n",
    "    result = gl.SFrame({' topics':themes, 'average predictions':avg_preds})\n",
    "    result = result.sort('average predictions', ascending=False)\n",
    "    return result"
   ]
  },
  {
   "cell_type": "code",
   "execution_count": null,
   "metadata": {
    "collapsed": false
   },
   "outputs": [],
   "source": [
    "print average_predictions(topic_model, obama, 100)"
   ]
  },
  {
   "cell_type": "markdown",
   "metadata": {},
   "source": [
    "__Quiz Question:__ What is the topic most closely associated with the article about former US President George W. Bush? Use the average results from 100 topic predictions."
   ]
  },
  {
   "cell_type": "markdown",
   "metadata": {},
   "source": [
    "__Quiz Question:__ What are the top 3 topics corresponding to the article about English football (soccer) player Steven Gerrard? Use the average results from 100 topic predictions."
   ]
  },
  {
   "cell_type": "markdown",
   "metadata": {},
   "source": [
    "# Comparing LDA to nearest neighbors for document retrieval\n",
    "\n",
    "So far we have found that our topic model has learned some coherent topics, we have explored these topics as probability distributions over a vocabulary, and we have seen how individual documents in our Wikipedia data set are assigned to these topics in a way that corresponds with our expectations. \n",
    "\n",
    "In this section, we will use the predicted topic distribution as a representation of each document, similar to how we have previously represented documents by word count or TF-IDF. This gives us a way of computing distances between documents, so that we can run a nearest neighbors search for a given document based on its membership in the topics that we learned from LDA. We can contrast the results with those obtained by running nearest neighbors under the usual TF-IDF representation, an approach that we explored in a previous assignment. \n",
    "\n",
    "We'll start by creating the LDA topic distribution representation for each document:"
   ]
  },
  {
   "cell_type": "code",
   "execution_count": null,
   "metadata": {
    "collapsed": false
   },
   "outputs": [],
   "source": [
    "wiki['lda'] = topic_model.predict(wiki_docs, output_type='probability')"
   ]
  },
  {
   "cell_type": "markdown",
   "metadata": {},
   "source": [
    "Next we add the TF-IDF document representations:"
   ]
  },
  {
   "cell_type": "code",
   "execution_count": null,
   "metadata": {
    "collapsed": false
   },
   "outputs": [],
   "source": [
    "wiki['word_count'] = gl.text_analytics.count_words(wiki['text'])\n",
    "wiki['tf_idf'] = gl.text_analytics.tf_idf(wiki['word_count'])"
   ]
  },
  {
   "cell_type": "markdown",
   "metadata": {},
   "source": [
    "For each of our two different document representations, we can use GraphLab Create to compute a brute-force nearest neighbors model:"
   ]
  },
  {
   "cell_type": "code",
   "execution_count": null,
   "metadata": {
    "collapsed": false
   },
   "outputs": [],
   "source": [
    "model_tf_idf = gl.nearest_neighbors.create(wiki, label='name', features=['tf_idf'],\n",
    "                                           method='brute_force', distance='cosine')\n",
    "model_lda_rep = gl.nearest_neighbors.create(wiki, label='name', features=['lda'],\n",
    "                                            method='brute_force', distance='cosine')"
   ]
  },
  {
   "cell_type": "markdown",
   "metadata": {},
   "source": [
    "Let's compare these nearest neighbor models by finding the nearest neighbors under each representation on an example document. For this example we'll use Paul Krugman, an American economist:"
   ]
  },
  {
   "cell_type": "code",
   "execution_count": null,
   "metadata": {
    "collapsed": false
   },
   "outputs": [],
   "source": [
    "model_tf_idf.query(wiki[wiki['name'] == 'Paul Krugman'], label='name', k=10)"
   ]
  },
  {
   "cell_type": "code",
   "execution_count": null,
   "metadata": {
    "collapsed": false
   },
   "outputs": [],
   "source": [
    "model_lda_rep.query(wiki[wiki['name'] == 'Paul Krugman'], label='name', k=10)"
   ]
  },
  {
   "cell_type": "markdown",
   "metadata": {},
   "source": [
    "Notice that that there is no overlap between the two sets of top 10 nearest neighbors. This doesn't necessarily mean that one representation is better or worse than the other, but rather that they are picking out different features of the documents. \n",
    "\n",
    "With TF-IDF, documents are distinguished by the frequency of uncommon words. Since similarity is defined based on the specific words used in the document, documents that are \"close\" under TF-IDF tend to be similar in terms of specific details. This is what we see in the example: the top 10 nearest neighbors are all economists from the US, UK, or Canada. \n",
    "\n",
    "Our LDA representation, on the other hand, defines similarity between documents in terms of their topic distributions. This means that documents can be \"close\" if they share similar themes, even though they may not share many of the same keywords. For the article on Paul Krugman, we expect the most important topics to be 'American college and politics' and 'science and research'. As a result, we see that the top 10 nearest neighbors are academics from a wide variety of fields, including literature, anthropology, and religious studies.\n",
    "\n",
    "\n",
    "__Quiz Question:__ Using the TF-IDF representation, compute the 5000 nearest neighbors for American baseball player Alex Rodriguez. For what value of k is Mariano Rivera the k-th nearest neighbor to Alex Rodriguez? (Hint: Once you have a list of the nearest neighbors, you can use `mylist.index(value)` to find the index of the first instance of `value` in `mylist`.)\n",
    "\n",
    "__Quiz Question:__ Using the LDA representation, compute the 5000 nearest neighbors for American baseball player Alex Rodriguez. For what value of k is Mariano Rivera the k-th nearest neighbor to Alex Rodriguez? (Hint: Once you have a list of the nearest neighbors, you can use `mylist.index(value)` to find the index of the first instance of `value` in `mylist`.)"
   ]
  },
  {
   "cell_type": "markdown",
   "metadata": {},
   "source": [
    "# Understanding the role of LDA model hyperparameters\n",
    "\n",
    "Finally, we'll take a look at the effect of the LDA model hyperparameters alpha and gamma on the characteristics of our fitted model. Recall that alpha is a parameter of the prior distribution over topic weights in each document, while gamma is a parameter of the prior distribution over word weights in each topic. \n",
    "\n",
    "In the video lectures, we saw that alpha and gamma can be thought of as smoothing parameters when we compute how much each document \"likes\" a topic (in the case of alpha) or how much each topic \"likes\" a word (in the case of gamma). In both cases, these parameters serve to reduce the differences across topics or words in terms of these calculated preferences; alpha makes the document preferences \"smoother\" over topics, and gamma makes the topic preferences \"smoother\" over words.\n",
    "\n",
    "Our goal in this section will be to understand how changing these parameter values affects the characteristics of the resulting topic model.\n",
    "\n",
    "__Quiz Question:__ What was the value of alpha used to fit our original topic model? "
   ]
  },
  {
   "cell_type": "markdown",
   "metadata": {},
   "source": [
    "__Quiz Question:__ What was the value of gamma used to fit our original topic model? Remember that GraphLab Create uses \"beta\" instead of \"gamma\" to refer to the hyperparameter that influences topic distributions over words."
   ]
  },
  {
   "cell_type": "markdown",
   "metadata": {},
   "source": [
    "We'll start by loading some topic models that have been trained using different settings of alpha and gamma. Specifically, we will start by comparing the following two models to our original topic model:\n",
    " - tpm_low_alpha, a model trained with alpha = 1 and default gamma\n",
    " - tpm_high_alpha, a model trained with alpha = 50 and default gamma"
   ]
  },
  {
   "cell_type": "code",
   "execution_count": null,
   "metadata": {
    "collapsed": true
   },
   "outputs": [],
   "source": [
    "tpm_low_alpha = gl.load_model('lda_low_alpha')\n",
    "tpm_high_alpha = gl.load_model('lda_high_alpha')"
   ]
  },
  {
   "cell_type": "markdown",
   "metadata": {},
   "source": [
    "### Changing the hyperparameter alpha\n",
    "\n",
    "Since alpha is responsible for smoothing document preferences over topics, the impact of changing its value should be visible when we plot the distribution of topic weights for the same document under models fit with different alpha values. In the code below, we plot the (sorted) topic weights for the Wikipedia article on Barack Obama under models fit with high, original, and low settings of alpha."
   ]
  },
  {
   "cell_type": "code",
   "execution_count": null,
   "metadata": {
    "collapsed": false
   },
   "outputs": [],
   "source": [
    "a = np.sort(tpm_low_alpha.predict(obama,output_type='probability')[0])[::-1]\n",
    "b = np.sort(topic_model.predict(obama,output_type='probability')[0])[::-1]\n",
    "c = np.sort(tpm_high_alpha.predict(obama,output_type='probability')[0])[::-1]\n",
    "ind = np.arange(len(a))\n",
    "width = 0.3\n",
    "\n",
    "def param_bar_plot(a,b,c,ind,width,ylim,param,xlab,ylab):\n",
    "    fig = plt.figure()\n",
    "    ax = fig.add_subplot(111)\n",
    "\n",
    "    b1 = ax.bar(ind, a, width, color='lightskyblue')\n",
    "    b2 = ax.bar(ind+width, b, width, color='lightcoral')\n",
    "    b3 = ax.bar(ind+(2*width), c, width, color='gold')\n",
    "\n",
    "    ax.set_xticks(ind+width)\n",
    "    ax.set_xticklabels(range(10))\n",
    "    ax.set_ylabel(ylab)\n",
    "    ax.set_xlabel(xlab)\n",
    "    ax.set_ylim(0,ylim)\n",
    "    ax.legend(handles = [b1,b2,b3],labels=['low '+param,'original model','high '+param])\n",
    "\n",
    "    plt.tight_layout()\n",
    "    \n",
    "param_bar_plot(a,b,c,ind,width,ylim=1.0,param='alpha',\n",
    "               xlab='Topics (sorted by weight of top 100 words)',ylab='Topic Probability for Obama Article')"
   ]
  },
  {
   "cell_type": "markdown",
   "metadata": {},
   "source": [
    "Here we can clearly see the smoothing enforced by the alpha parameter - notice that when alpha is low most of the weight in the topic distribution for this article goes to a single topic, but when alpha is high the weight is much more evenly distributed across the topics.\n",
    "\n",
    "__Quiz Question:__ How many topics are assigned a weight greater than 0.3 or less than 0.05 for the article on Paul Krugman in the **low alpha** model?  Use the average results from 100 topic predictions."
   ]
  },
  {
   "cell_type": "markdown",
   "metadata": {},
   "source": [
    "__Quiz Question:__ How many topics are assigned a weight greater than 0.3 or less than 0.05 for the article on Paul Krugman in the **high alpha** model? Use the average results from 100 topic predictions."
   ]
  },
  {
   "cell_type": "markdown",
   "metadata": {},
   "source": [
    "### Changing the hyperparameter gamma\n",
    "\n",
    "Just as we were able to see the effect of alpha by plotting topic weights for a document, we expect to be able to visualize the impact of changing gamma by plotting word weights for each topic. In this case, however, there are far too many words in our vocabulary to do this effectively. Instead, we'll plot the total weight of the top 100 words and bottom 1000 words for each topic. Below, we plot the (sorted) total weights of the top 100 words and bottom 1000 from each topic in the high, original, and low gamma models."
   ]
  },
  {
   "cell_type": "markdown",
   "metadata": {},
   "source": [
    "Now we will consider the following two models:\n",
    " - tpm_low_gamma, a model trained with gamma = 0.02 and default alpha\n",
    " - tpm_high_gamma, a model trained with gamma = 0.5 and default alpha"
   ]
  },
  {
   "cell_type": "code",
   "execution_count": null,
   "metadata": {
    "collapsed": true
   },
   "outputs": [],
   "source": [
    "del tpm_low_alpha\n",
    "del tpm_high_alpha\n",
    "tpm_low_gamma = gl.load_model('lda_low_gamma')\n",
    "tpm_high_gamma = gl.load_model('lda_high_gamma')"
   ]
  },
  {
   "cell_type": "code",
   "execution_count": null,
   "metadata": {
    "collapsed": false
   },
   "outputs": [],
   "source": [
    "a_top = np.sort([sum(tpm_low_gamma.get_topics(topic_ids=[i], num_words=100)['score']) for i in range(10)])[::-1]\n",
    "b_top = np.sort([sum(topic_model.get_topics(topic_ids=[i], num_words=100)['score']) for i in range(10)])[::-1]\n",
    "c_top = np.sort([sum(tpm_high_gamma.get_topics(topic_ids=[i], num_words=100)['score']) for i in range(10)])[::-1]\n",
    "\n",
    "a_bot = np.sort([sum(tpm_low_gamma.get_topics(topic_ids=[i], num_words=547462)[-1000:]['score']) for i in range(10)])[::-1]\n",
    "b_bot = np.sort([sum(topic_model.get_topics(topic_ids=[i], num_words=547462)[-1000:]['score']) for i in range(10)])[::-1]\n",
    "c_bot = np.sort([sum(tpm_high_gamma.get_topics(topic_ids=[i], num_words=547462)[-1000:]['score']) for i in range(10)])[::-1]\n",
    "\n",
    "ind = np.arange(len(a))\n",
    "width = 0.3\n",
    "    \n",
    "param_bar_plot(a_top, b_top, c_top, ind, width, ylim=0.6, param='gamma',\n",
    "               xlab='Topics (sorted by weight of top 100 words)', \n",
    "               ylab='Total Probability of Top 100 Words')\n",
    "\n",
    "param_bar_plot(a_bot, b_bot, c_bot, ind, width, ylim=0.0002, param='gamma',\n",
    "               xlab='Topics (sorted by weight of bottom 1000 words)',\n",
    "               ylab='Total Probability of Bottom 1000 Words')"
   ]
  },
  {
   "cell_type": "markdown",
   "metadata": {
    "collapsed": true
   },
   "source": [
    "From these two plots we can see that the low gamma model results in higher weight placed on the top words and lower weight placed on the bottom words for each topic, while the high gamma model places relatively less weight on the top words and more weight on the bottom words. Thus increasing gamma results in topics that have a smoother distribution of weight across all the words in the vocabulary."
   ]
  },
  {
   "cell_type": "markdown",
   "metadata": {},
   "source": [
    "__Quiz Question:__ For each topic of the **low gamma model**, compute the number of words required to make a list with total probability 0.5. What is the average number of words required across all topics? (HINT: use the get_topics() function from GraphLab Create with the _cdf_\\__cutoff_ argument)."
   ]
  },
  {
   "cell_type": "markdown",
   "metadata": {},
   "source": [
    "__Quiz Question:__ For each topic of the **high gamma model**, compute the number of words required to make a list with total probability 0.5. What is the average number of words required across all topics? (HINT: use the get_topics() function from GraphLab Create with the _cdf_\\__cutoff_ argument)."
   ]
  },
  {
   "cell_type": "markdown",
   "metadata": {},
   "source": [
    "We have now seen how the hyperparameters alpha and gamma influence the characteristics of our LDA topic model, but we haven't said anything about what settings of alpha or gamma are best. We know that these parameters are responsible for controlling the smoothness of the topic distributions for documents and word distributions for topics, but there's no simple conversion between smoothness of these distributions and quality of the topic model. In reality, there is no universally \"best\" choice for these parameters. Instead, finding a good topic model requires that we be able to both explore the output (as we did by looking at the topics and checking some topic predictions for documents) and understand the impact of hyperparameter settings (as we have in this section)."
   ]
  }
 ],
 "metadata": {
  "kernelspec": {
   "display_name": "Python 2",
   "language": "python",
   "name": "python2"
  },
  "language_info": {
   "codemirror_mode": {
    "name": "ipython",
    "version": 2
   },
   "file_extension": ".py",
   "mimetype": "text/x-python",
   "name": "python",
   "nbconvert_exporter": "python",
   "pygments_lexer": "ipython2",
   "version": "2.7.11"
  }
 },
 "nbformat": 4,
 "nbformat_minor": 0
}
